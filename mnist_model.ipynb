{
 "cells": [
  {
   "cell_type": "code",
   "execution_count": 1,
   "id": "8a0f4742",
   "metadata": {
    "_cell_guid": "b1076dfc-b9ad-4769-8c92-a6c4dae69d19",
    "_uuid": "8f2839f25d086af736a60e9eeb907d3b93b6e0e5",
    "execution": {
     "iopub.execute_input": "2024-07-18T16:15:54.205153Z",
     "iopub.status.busy": "2024-07-18T16:15:54.204744Z",
     "iopub.status.idle": "2024-07-18T16:16:10.117726Z",
     "shell.execute_reply": "2024-07-18T16:16:10.116389Z"
    },
    "papermill": {
     "duration": 15.922712,
     "end_time": "2024-07-18T16:16:10.120559",
     "exception": false,
     "start_time": "2024-07-18T16:15:54.197847",
     "status": "completed"
    },
    "tags": []
   },
   "outputs": [
    {
     "name": "stderr",
     "output_type": "stream",
     "text": [
      "2024-07-18 16:15:57.531072: E external/local_xla/xla/stream_executor/cuda/cuda_dnn.cc:9261] Unable to register cuDNN factory: Attempting to register factory for plugin cuDNN when one has already been registered\n",
      "2024-07-18 16:15:57.531231: E external/local_xla/xla/stream_executor/cuda/cuda_fft.cc:607] Unable to register cuFFT factory: Attempting to register factory for plugin cuFFT when one has already been registered\n",
      "2024-07-18 16:15:57.709173: E external/local_xla/xla/stream_executor/cuda/cuda_blas.cc:1515] Unable to register cuBLAS factory: Attempting to register factory for plugin cuBLAS when one has already been registered\n"
     ]
    },
    {
     "name": "stdout",
     "output_type": "stream",
     "text": [
      "/kaggle/input/mnist-dataset/train-images.idx3-ubyte\n",
      "/kaggle/input/mnist-dataset/t10k-labels.idx1-ubyte\n",
      "/kaggle/input/mnist-dataset/t10k-images.idx3-ubyte\n",
      "/kaggle/input/mnist-dataset/train-labels.idx1-ubyte\n",
      "/kaggle/input/mnist-dataset/t10k-labels-idx1-ubyte/t10k-labels-idx1-ubyte\n",
      "/kaggle/input/mnist-dataset/t10k-images-idx3-ubyte/t10k-images-idx3-ubyte\n",
      "/kaggle/input/mnist-dataset/train-labels-idx1-ubyte/train-labels-idx1-ubyte\n",
      "/kaggle/input/mnist-dataset/train-images-idx3-ubyte/train-images-idx3-ubyte\n"
     ]
    }
   ],
   "source": [
    "# This Python 3 environment comes with many helpful analytics libraries installed\n",
    "# It is defined by the kaggle/python Docker image: https://github.com/kaggle/docker-python\n",
    "# For example, here's several helpful packages to load\n",
    "import matplotlib.pyplot as plt\n",
    "import numpy as np # linear algebra\n",
    "import pandas as pd # data processing, CSV file I/O (e.g. pd.read_csv)\n",
    "import struct\n",
    "# Input data files are available in the read-only \"../input/\" directory\n",
    "# For example, running this (by clicking run or pressing Shift+Enter) will list all files under the input directory\n",
    "import tensorflow as tf\n",
    "from tensorflow import keras\n",
    "from tensorflow.keras import Sequential, layers, models, losses \n",
    "from tensorflow.keras.layers import Dense, Flatten\n",
    "from keras.datasets import mnist\n",
    "import os\n",
    "for dirname, _, filenames in os.walk('/kaggle/input'):\n",
    "    for filename in filenames:\n",
    "        print(os.path.join(dirname, filename))\n",
    "\n",
    "# You can write up to 20GB to the current directory (/kaggle/working/) that gets preserved as output when you create a version using \"Save & Run All\" \n",
    "# You can also write temporary files to /kaggle/temp/, but they won't be saved outside of the current session"
   ]
  },
  {
   "cell_type": "code",
   "execution_count": 2,
   "id": "46620d9f",
   "metadata": {
    "execution": {
     "iopub.execute_input": "2024-07-18T16:16:10.133986Z",
     "iopub.status.busy": "2024-07-18T16:16:10.132547Z",
     "iopub.status.idle": "2024-07-18T16:16:11.144337Z",
     "shell.execute_reply": "2024-07-18T16:16:11.143050Z"
    },
    "papermill": {
     "duration": 1.02121,
     "end_time": "2024-07-18T16:16:11.147230",
     "exception": false,
     "start_time": "2024-07-18T16:16:10.126020",
     "status": "completed"
    },
    "tags": []
   },
   "outputs": [],
   "source": [
    "def load_mnist_images(file_path):\n",
    "    with open(file_path, 'rb') as f:\n",
    "        magic, num, rows, cols = struct.unpack(\">IIII\", f.read(16))\n",
    "        images = np.fromfile(f, dtype=np.uint8).reshape(num, rows, cols)\n",
    "    return images\n",
    "\n",
    "def load_mnist_labels(file_path):\n",
    "    with open(file_path, 'rb') as f:\n",
    "        magic, num = struct.unpack(\">II\", f.read(8))\n",
    "        labels = np.fromfile(f, dtype=np.uint8)\n",
    "    return labels\n",
    "train_images_path = '/kaggle/input/mnist-dataset/train-images-idx3-ubyte/train-images-idx3-ubyte'\n",
    "train_labels_path = '/kaggle/input/mnist-dataset/train-labels-idx1-ubyte/train-labels-idx1-ubyte'\n",
    "test_images_path = '/kaggle/input/mnist-dataset/t10k-images-idx3-ubyte/t10k-images-idx3-ubyte'\n",
    "test_labels_path = '/kaggle/input/mnist-dataset/t10k-labels-idx1-ubyte/t10k-labels-idx1-ubyte'\n",
    "\n",
    "train_images = load_mnist_images(train_images_path)\n",
    "train_labels = load_mnist_labels(train_labels_path)\n",
    "test_images = load_mnist_images(test_images_path)\n",
    "test_labels = load_mnist_labels(test_labels_path)"
   ]
  },
  {
   "cell_type": "code",
   "execution_count": 3,
   "id": "84c49655",
   "metadata": {
    "execution": {
     "iopub.execute_input": "2024-07-18T16:16:11.159688Z",
     "iopub.status.busy": "2024-07-18T16:16:11.159236Z",
     "iopub.status.idle": "2024-07-18T16:16:11.165591Z",
     "shell.execute_reply": "2024-07-18T16:16:11.164497Z"
    },
    "papermill": {
     "duration": 0.015096,
     "end_time": "2024-07-18T16:16:11.167933",
     "exception": false,
     "start_time": "2024-07-18T16:16:11.152837",
     "status": "completed"
    },
    "tags": []
   },
   "outputs": [
    {
     "name": "stdout",
     "output_type": "stream",
     "text": [
      "Training images shape: (60000, 28, 28)\n",
      "Training labels shape: (60000,)\n",
      "Test images shape: (10000, 28, 28)\n",
      "Test labels shape: (10000,)\n"
     ]
    }
   ],
   "source": [
    "print(f\"Training images shape: {train_images.shape}\")\n",
    "print(f\"Training labels shape: {train_labels.shape}\")\n",
    "print(f\"Test images shape: {test_images.shape}\")\n",
    "print(f\"Test labels shape: {test_labels.shape}\")\n"
   ]
  },
  {
   "cell_type": "code",
   "execution_count": 4,
   "id": "f2c5031c",
   "metadata": {
    "execution": {
     "iopub.execute_input": "2024-07-18T16:16:11.180400Z",
     "iopub.status.busy": "2024-07-18T16:16:11.179643Z",
     "iopub.status.idle": "2024-07-18T16:16:11.502705Z",
     "shell.execute_reply": "2024-07-18T16:16:11.501089Z"
    },
    "papermill": {
     "duration": 0.33205,
     "end_time": "2024-07-18T16:16:11.505342",
     "exception": false,
     "start_time": "2024-07-18T16:16:11.173292",
     "status": "completed"
    },
    "tags": []
   },
   "outputs": [
    {
     "data": {
      "image/png": "[encoded data removed]",
      "text/plain": [
       "<Figure size 640x480 with 1 Axes>"
      ]
     },
     "metadata": {},
     "output_type": "display_data"
    }
   ],
   "source": [
    "# Display the first image in the training set\n",
    "plt.imshow(train_images[0], cmap='gray')\n",
    "plt.title(f\"Label: {train_labels[0]}\")\n",
    "plt.show()\n"
   ]
  },
  {
   "cell_type": "markdown",
   "id": "b03096b5",
   "metadata": {
    "papermill": {
     "duration": 0.00516,
     "end_time": "2024-07-18T16:16:11.516048",
     "exception": false,
     "start_time": "2024-07-18T16:16:11.510888",
     "status": "completed"
    },
    "tags": []
   },
   "source": [
    "# Attempt 1 CNN"
   ]
  },
  {
   "cell_type": "code",
   "execution_count": 5,
   "id": "c60f5df3",
   "metadata": {
    "execution": {
     "iopub.execute_input": "2024-07-18T16:16:11.528994Z",
     "iopub.status.busy": "2024-07-18T16:16:11.528526Z",
     "iopub.status.idle": "2024-07-18T16:16:11.540985Z",
     "shell.execute_reply": "2024-07-18T16:16:11.539662Z"
    },
    "papermill": {
     "duration": 0.022333,
     "end_time": "2024-07-18T16:16:11.543807",
     "exception": false,
     "start_time": "2024-07-18T16:16:11.521474",
     "status": "completed"
    },
    "tags": []
   },
   "outputs": [],
   "source": [
    "def initialize_cnn(window_width):\n",
    "    input_shape = (28, 28, 1)\n",
    "    \n",
    "    model = models.Sequential()\n",
    "    \n",
    "    model.add(layers.Input(shape=input_shape))\n",
    "    model.add(layers.Conv2D(64, (window_width, window_width), activation = 'relu'))\n",
    "    model.add(layers.BatchNormalization())\n",
    "    model.add(layers.MaxPooling2D((2, 2)))\n",
    "    model.add(layers.Dropout(0.25))\n",
    "    model.add(layers.Conv2D(128, (window_width, window_width), activation = 'relu'))\n",
    "    model.add(layers.BatchNormalization())\n",
    "    model.add(layers.MaxPooling2D((2, 2)))\n",
    "    model.add(layers.Dropout(0.25))\n",
    "    model.add(layers.Conv2D(64, (window_width, window_width), activation = 'relu'))\n",
    "    model.add(layers.BatchNormalization())\n",
    "    model.add(layers.Dropout(0.5))\n",
    "    model.add(layers.MaxPooling2D((2,2)))\n",
    "    model.add(layers.Flatten())\n",
    "    model.add(layers.Dense(64, activation = 'relu'))\n",
    "    model.add(layers.Dense(10, activation = 'softmax'))\n",
    "    return model"
   ]
  },
  {
   "cell_type": "code",
   "execution_count": 6,
   "id": "b1ca9ec0",
   "metadata": {
    "execution": {
     "iopub.execute_input": "2024-07-18T16:16:11.557022Z",
     "iopub.status.busy": "2024-07-18T16:16:11.556193Z",
     "iopub.status.idle": "2024-07-18T16:16:12.004924Z",
     "shell.execute_reply": "2024-07-18T16:16:12.003572Z"
    },
    "papermill": {
     "duration": 0.45852,
     "end_time": "2024-07-18T16:16:12.007869",
     "exception": false,
     "start_time": "2024-07-18T16:16:11.549349",
     "status": "completed"
    },
    "tags": []
   },
   "outputs": [],
   "source": [
    "model = initialize_cnn(3)\n",
    "normalized_train_images = train_images/255.\n",
    "normalized_test_images = test_images/255."
   ]
  },
  {
   "cell_type": "code",
   "execution_count": 7,
   "id": "e4218ac1",
   "metadata": {
    "execution": {
     "iopub.execute_input": "2024-07-18T16:16:12.020646Z",
     "iopub.status.busy": "2024-07-18T16:16:12.020243Z",
     "iopub.status.idle": "2024-07-18T16:42:14.672062Z",
     "shell.execute_reply": "2024-07-18T16:42:14.670828Z"
    },
    "papermill": {
     "duration": 1562.661514,
     "end_time": "2024-07-18T16:42:14.674964",
     "exception": false,
     "start_time": "2024-07-18T16:16:12.013450",
     "status": "completed"
    },
    "tags": []
   },
   "outputs": [
    {
     "name": "stdout",
     "output_type": "stream",
     "text": [
      "Epoch 1/15\n",
      "\u001b[1m1875/1875\u001b[0m \u001b[32m━━━━━━━━━━━━━━━━━━━━\u001b[0m\u001b[37m\u001b[0m \u001b[1m101s\u001b[0m 52ms/step - accuracy: 0.8391 - loss: 0.5162 - val_accuracy: 0.9794 - val_loss: 0.0695\n",
      "Epoch 2/15\n",
      "\u001b[1m1875/1875\u001b[0m \u001b[32m━━━━━━━━━━━━━━━━━━━━\u001b[0m\u001b[37m\u001b[0m \u001b[1m92s\u001b[0m 49ms/step - accuracy: 0.9611 - loss: 0.1254 - val_accuracy: 0.9808 - val_loss: 0.0597\n",
      "Epoch 3/15\n",
      "\u001b[1m1875/1875\u001b[0m \u001b[32m━━━━━━━━━━━━━━━━━━━━\u001b[0m\u001b[37m\u001b[0m \u001b[1m93s\u001b[0m 49ms/step - accuracy: 0.9681 - loss: 0.1014 - val_accuracy: 0.9850 - val_loss: 0.0497\n",
      "Epoch 4/15\n",
      "\u001b[1m1875/1875\u001b[0m \u001b[32m━━━━━━━━━━━━━━━━━━━━\u001b[0m\u001b[37m\u001b[0m \u001b[1m92s\u001b[0m 49ms/step - accuracy: 0.9749 - loss: 0.0819 - val_accuracy: 0.9877 - val_loss: 0.0433\n",
      "Epoch 5/15\n",
      "\u001b[1m1875/1875\u001b[0m \u001b[32m━━━━━━━━━━━━━━━━━━━━\u001b[0m\u001b[37m\u001b[0m \u001b[1m91s\u001b[0m 49ms/step - accuracy: 0.9745 - loss: 0.0821 - val_accuracy: 0.9877 - val_loss: 0.0404\n",
      "Epoch 6/15\n",
      "\u001b[1m1875/1875\u001b[0m \u001b[32m━━━━━━━━━━━━━━━━━━━━\u001b[0m\u001b[37m\u001b[0m \u001b[1m92s\u001b[0m 49ms/step - accuracy: 0.9781 - loss: 0.0700 - val_accuracy: 0.9879 - val_loss: 0.0441\n",
      "Epoch 7/15\n",
      "\u001b[1m1875/1875\u001b[0m \u001b[32m━━━━━━━━━━━━━━━━━━━━\u001b[0m\u001b[37m\u001b[0m \u001b[1m95s\u001b[0m 50ms/step - accuracy: 0.9796 - loss: 0.0678 - val_accuracy: 0.9882 - val_loss: 0.0397\n",
      "Epoch 8/15\n",
      "\u001b[1m1875/1875\u001b[0m \u001b[32m━━━━━━━━━━━━━━━━━━━━\u001b[0m\u001b[37m\u001b[0m \u001b[1m95s\u001b[0m 51ms/step - accuracy: 0.9804 - loss: 0.0592 - val_accuracy: 0.9862 - val_loss: 0.0494\n",
      "Epoch 9/15\n",
      "\u001b[1m1875/1875\u001b[0m \u001b[32m━━━━━━━━━━━━━━━━━━━━\u001b[0m\u001b[37m\u001b[0m \u001b[1m143s\u001b[0m 51ms/step - accuracy: 0.9820 - loss: 0.0607 - val_accuracy: 0.9887 - val_loss: 0.0408\n",
      "Epoch 10/15\n",
      "\u001b[1m1875/1875\u001b[0m \u001b[32m━━━━━━━━━━━━━━━━━━━━\u001b[0m\u001b[37m\u001b[0m \u001b[1m96s\u001b[0m 51ms/step - accuracy: 0.9819 - loss: 0.0581 - val_accuracy: 0.9890 - val_loss: 0.0405\n",
      "Epoch 11/15\n",
      "\u001b[1m1875/1875\u001b[0m \u001b[32m━━━━━━━━━━━━━━━━━━━━\u001b[0m\u001b[37m\u001b[0m \u001b[1m98s\u001b[0m 52ms/step - accuracy: 0.9837 - loss: 0.0513 - val_accuracy: 0.9904 - val_loss: 0.0373\n",
      "Epoch 12/15\n",
      "\u001b[1m1875/1875\u001b[0m \u001b[32m━━━━━━━━━━━━━━━━━━━━\u001b[0m\u001b[37m\u001b[0m \u001b[1m142s\u001b[0m 52ms/step - accuracy: 0.9854 - loss: 0.0458 - val_accuracy: 0.9902 - val_loss: 0.0357\n",
      "Epoch 13/15\n",
      "\u001b[1m1875/1875\u001b[0m \u001b[32m━━━━━━━━━━━━━━━━━━━━\u001b[0m\u001b[37m\u001b[0m \u001b[1m96s\u001b[0m 51ms/step - accuracy: 0.9846 - loss: 0.0482 - val_accuracy: 0.9907 - val_loss: 0.0342\n",
      "Epoch 14/15\n",
      "\u001b[1m1875/1875\u001b[0m \u001b[32m━━━━━━━━━━━━━━━━━━━━\u001b[0m\u001b[37m\u001b[0m \u001b[1m95s\u001b[0m 50ms/step - accuracy: 0.9865 - loss: 0.0456 - val_accuracy: 0.9901 - val_loss: 0.0424\n",
      "Epoch 15/15\n",
      "\u001b[1m1875/1875\u001b[0m \u001b[32m━━━━━━━━━━━━━━━━━━━━\u001b[0m\u001b[37m\u001b[0m \u001b[1m96s\u001b[0m 51ms/step - accuracy: 0.9866 - loss: 0.0423 - val_accuracy: 0.9897 - val_loss: 0.0383\n"
     ]
    }
   ],
   "source": [
    "model.compile(optimizer=keras.optimizers.Adam(learning_rate=0.001),\n",
    "              loss='sparse_categorical_crossentropy',\n",
    "              metrics=['accuracy'])\n",
    "history = model.fit(normalized_train_images, train_labels, epochs = 15, validation_data=(normalized_test_images, test_labels))\n"
   ]
  },
  {
   "cell_type": "markdown",
   "id": "0c8e498a",
   "metadata": {
    "papermill": {
     "duration": 1.708174,
     "end_time": "2024-07-18T16:42:18.062422",
     "exception": false,
     "start_time": "2024-07-18T16:42:16.354248",
     "status": "completed"
    },
    "tags": []
   },
   "source": [
    "# Attempt 2 Flatten image, apply dense neural net"
   ]
  },
  {
   "cell_type": "code",
   "execution_count": 8,
   "id": "5242e4ae",
   "metadata": {
    "execution": {
     "iopub.execute_input": "2024-07-18T16:42:21.427770Z",
     "iopub.status.busy": "2024-07-18T16:42:21.427128Z",
     "iopub.status.idle": "2024-07-18T16:42:21.435335Z",
     "shell.execute_reply": "2024-07-18T16:42:21.433897Z"
    },
    "papermill": {
     "duration": 1.642441,
     "end_time": "2024-07-18T16:42:21.438078",
     "exception": false,
     "start_time": "2024-07-18T16:42:19.795637",
     "status": "completed"
    },
    "tags": []
   },
   "outputs": [],
   "source": [
    "def initialize_neural_net():\n",
    "    input_shape = (28, 28)\n",
    "    \n",
    "    model = models.Sequential()\n",
    "    \n",
    "    model.add(layers.Flatten(input_shape=input_shape))\n",
    "    model.add(layers.Dense(32, activation = 'relu'))\n",
    "    model.add(layers.Dense(128, activation = 'relu'))\n",
    "    model.add(layers.Dense(10, activation = 'softmax'))\n",
    "    return model"
   ]
  },
  {
   "cell_type": "code",
   "execution_count": 9,
   "id": "f82f53d7",
   "metadata": {
    "execution": {
     "iopub.execute_input": "2024-07-18T16:42:24.742862Z",
     "iopub.status.busy": "2024-07-18T16:42:24.742220Z",
     "iopub.status.idle": "2024-07-18T16:42:24.798326Z",
     "shell.execute_reply": "2024-07-18T16:42:24.797146Z"
    },
    "papermill": {
     "duration": 1.673373,
     "end_time": "2024-07-18T16:42:24.801039",
     "exception": false,
     "start_time": "2024-07-18T16:42:23.127666",
     "status": "completed"
    },
    "tags": []
   },
   "outputs": [
    {
     "name": "stderr",
     "output_type": "stream",
     "text": [
      "/opt/conda/lib/python3.10/site-packages/keras/src/layers/reshaping/flatten.py:37: UserWarning: Do not pass an `input_shape`/`input_dim` argument to a layer. When using Sequential models, prefer using an `Input(shape)` object as the first layer in the model instead.\n",
      "  super().__init__(**kwargs)\n"
     ]
    }
   ],
   "source": [
    "model = initialize_neural_net()"
   ]
  },
  {
   "cell_type": "code",
   "execution_count": 10,
   "id": "0acd56d8",
   "metadata": {
    "execution": {
     "iopub.execute_input": "2024-07-18T16:42:28.194026Z",
     "iopub.status.busy": "2024-07-18T16:42:28.193634Z",
     "iopub.status.idle": "2024-07-18T16:43:29.563174Z",
     "shell.execute_reply": "2024-07-18T16:43:29.561723Z"
    },
    "papermill": {
     "duration": 63.068357,
     "end_time": "2024-07-18T16:43:29.567258",
     "exception": false,
     "start_time": "2024-07-18T16:42:26.498901",
     "status": "completed"
    },
    "tags": []
   },
   "outputs": [
    {
     "name": "stdout",
     "output_type": "stream",
     "text": [
      "Epoch 1/15\n",
      "\u001b[1m1875/1875\u001b[0m \u001b[32m━━━━━━━━━━━━━━━━━━━━\u001b[0m\u001b[37m\u001b[0m \u001b[1m5s\u001b[0m 2ms/step - accuracy: 0.8458 - loss: 0.5369 - val_accuracy: 0.9476 - val_loss: 0.1741\n",
      "Epoch 2/15\n",
      "\u001b[1m1875/1875\u001b[0m \u001b[32m━━━━━━━━━━━━━━━━━━━━\u001b[0m\u001b[37m\u001b[0m \u001b[1m4s\u001b[0m 2ms/step - accuracy: 0.9505 - loss: 0.1706 - val_accuracy: 0.9553 - val_loss: 0.1439\n",
      "Epoch 3/15\n",
      "\u001b[1m1875/1875\u001b[0m \u001b[32m━━━━━━━━━━━━━━━━━━━━\u001b[0m\u001b[37m\u001b[0m \u001b[1m4s\u001b[0m 2ms/step - accuracy: 0.9650 - loss: 0.1169 - val_accuracy: 0.9671 - val_loss: 0.1090\n",
      "Epoch 4/15\n",
      "\u001b[1m1875/1875\u001b[0m \u001b[32m━━━━━━━━━━━━━━━━━━━━\u001b[0m\u001b[37m\u001b[0m \u001b[1m4s\u001b[0m 2ms/step - accuracy: 0.9714 - loss: 0.0923 - val_accuracy: 0.9698 - val_loss: 0.0954\n",
      "Epoch 5/15\n",
      "\u001b[1m1875/1875\u001b[0m \u001b[32m━━━━━━━━━━━━━━━━━━━━\u001b[0m\u001b[37m\u001b[0m \u001b[1m4s\u001b[0m 2ms/step - accuracy: 0.9767 - loss: 0.0737 - val_accuracy: 0.9676 - val_loss: 0.1062\n",
      "Epoch 6/15\n",
      "\u001b[1m1875/1875\u001b[0m \u001b[32m━━━━━━━━━━━━━━━━━━━━\u001b[0m\u001b[37m\u001b[0m \u001b[1m4s\u001b[0m 2ms/step - accuracy: 0.9806 - loss: 0.0636 - val_accuracy: 0.9596 - val_loss: 0.1348\n",
      "Epoch 7/15\n",
      "\u001b[1m1875/1875\u001b[0m \u001b[32m━━━━━━━━━━━━━━━━━━━━\u001b[0m\u001b[37m\u001b[0m \u001b[1m4s\u001b[0m 2ms/step - accuracy: 0.9822 - loss: 0.0597 - val_accuracy: 0.9721 - val_loss: 0.0931\n",
      "Epoch 8/15\n",
      "\u001b[1m1875/1875\u001b[0m \u001b[32m━━━━━━━━━━━━━━━━━━━━\u001b[0m\u001b[37m\u001b[0m \u001b[1m4s\u001b[0m 2ms/step - accuracy: 0.9838 - loss: 0.0507 - val_accuracy: 0.9694 - val_loss: 0.1068\n",
      "Epoch 9/15\n",
      "\u001b[1m1875/1875\u001b[0m \u001b[32m━━━━━━━━━━━━━━━━━━━━\u001b[0m\u001b[37m\u001b[0m \u001b[1m4s\u001b[0m 2ms/step - accuracy: 0.9858 - loss: 0.0422 - val_accuracy: 0.9689 - val_loss: 0.1171\n",
      "Epoch 10/15\n",
      "\u001b[1m1875/1875\u001b[0m \u001b[32m━━━━━━━━━━━━━━━━━━━━\u001b[0m\u001b[37m\u001b[0m \u001b[1m4s\u001b[0m 2ms/step - accuracy: 0.9879 - loss: 0.0379 - val_accuracy: 0.9686 - val_loss: 0.1106\n",
      "Epoch 11/15\n",
      "\u001b[1m1875/1875\u001b[0m \u001b[32m━━━━━━━━━━━━━━━━━━━━\u001b[0m\u001b[37m\u001b[0m \u001b[1m4s\u001b[0m 2ms/step - accuracy: 0.9888 - loss: 0.0340 - val_accuracy: 0.9712 - val_loss: 0.1148\n",
      "Epoch 12/15\n",
      "\u001b[1m1875/1875\u001b[0m \u001b[32m━━━━━━━━━━━━━━━━━━━━\u001b[0m\u001b[37m\u001b[0m \u001b[1m4s\u001b[0m 2ms/step - accuracy: 0.9887 - loss: 0.0339 - val_accuracy: 0.9697 - val_loss: 0.1233\n",
      "Epoch 13/15\n",
      "\u001b[1m1875/1875\u001b[0m \u001b[32m━━━━━━━━━━━━━━━━━━━━\u001b[0m\u001b[37m\u001b[0m \u001b[1m4s\u001b[0m 2ms/step - accuracy: 0.9905 - loss: 0.0286 - val_accuracy: 0.9688 - val_loss: 0.1294\n",
      "Epoch 14/15\n",
      "\u001b[1m1875/1875\u001b[0m \u001b[32m━━━━━━━━━━━━━━━━━━━━\u001b[0m\u001b[37m\u001b[0m \u001b[1m4s\u001b[0m 2ms/step - accuracy: 0.9913 - loss: 0.0252 - val_accuracy: 0.9720 - val_loss: 0.1147\n",
      "Epoch 15/15\n",
      "\u001b[1m1875/1875\u001b[0m \u001b[32m━━━━━━━━━━━━━━━━━━━━\u001b[0m\u001b[37m\u001b[0m \u001b[1m4s\u001b[0m 2ms/step - accuracy: 0.9927 - loss: 0.0216 - val_accuracy: 0.9697 - val_loss: 0.1298\n"
     ]
    }
   ],
   "source": [
    "model.compile(optimizer=keras.optimizers.Adam(learning_rate=0.001),\n",
    "              loss='sparse_categorical_crossentropy',\n",
    "              metrics=['accuracy'])\n",
    "history = model.fit(normalized_train_images, train_labels, epochs = 15, validation_data=(normalized_test_images, test_labels))\n"
   ]
  }
 ],
 "metadata": {
  "kaggle": {
   "accelerator": "none",
   "dataSources": [
    {
     "datasetId": 102285,
     "sourceId": 242592,
     "sourceType": "datasetVersion"
    }
   ],
   "dockerImageVersionId": 30746,
   "isGpuEnabled": false,
   "isInternetEnabled": false,
   "language": "python",
   "sourceType": "notebook"
  },
  "kernelspec": {
   "display_name": "Python 3",
   "language": "python",
   "name": "python3"
  },
  "language_info": {
   "codemirror_mode": {
    "name": "ipython",
    "version": 3
   },
   "file_extension": ".py",
   "mimetype": "text/x-python",
   "name": "python",
   "nbconvert_exporter": "python",
   "pygments_lexer": "ipython3",
   "version": "3.10.13"
  },
  "papermill": {
   "default_parameters": {},
   "duration": 1662.85605,
   "end_time": "2024-07-18T16:43:33.890188",
   "environment_variables": {},
   "exception": null,
   "input_path": "__notebook__.ipynb",
   "output_path": "__notebook__.ipynb",
   "parameters": {},
   "start_time": "2024-07-18T16:15:51.034138",
   "version": "2.5.0"
  }
 },
 "nbformat": 4,
 "nbformat_minor": 5
}
